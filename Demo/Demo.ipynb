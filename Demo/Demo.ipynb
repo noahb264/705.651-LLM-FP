{
 "cells": [
  {
   "cell_type": "code",
   "execution_count": 1,
   "metadata": {
    "ExecuteTime": {
     "end_time": "2023-12-12T16:47:00.885920Z",
     "start_time": "2023-12-12T16:47:00.363968Z"
    },
    "id": "jjFuX1goGnU0",
    "slideshow": {
     "slide_type": ""
    },
    "tags": []
   },
   "outputs": [],
   "source": [
    "import numpy as np\n",
    "import matplotlib.pyplot as plt\n",
    "\n",
    "# Check openai version, which should > 1.1: pip show openai\n",
    "import os\n",
    "import openai"
   ]
  },
  {
   "cell_type": "markdown",
   "metadata": {
    "jp-MarkdownHeadingCollapsed": true
   },
   "source": [
    "# Construct the game"
   ]
  },
  {
   "cell_type": "markdown",
   "metadata": {
    "id": "aOQfWTeYGO41"
   },
   "source": [
    "## Levels"
   ]
  },
  {
   "cell_type": "code",
   "execution_count": 2,
   "metadata": {
    "ExecuteTime": {
     "end_time": "2023-12-12T16:47:00.892399Z",
     "start_time": "2023-12-12T16:47:00.887471Z"
    },
    "id": "7VwkZrVcGNxP"
   },
   "outputs": [],
   "source": [
    "# Parsing level from string format to a 2D numpy array\n",
    "def parse_level(level_str):\n",
    "    rows = level_str.strip().split('\\n')\n",
    "    return np.array([list(row.split(',')) for row in rows])\n",
    "\n",
    "wall_test_str = '''\n",
    "-,-,-,-,-,-,-,-,-,-,-,-\n",
    "-,-,-,-,-,-,-,-,-,-,-,-\n",
    "-,-,-,-,-,-,-,-,-,-,-,-\n",
    "-,-,-,-,-,-,-,-,-,-,-,-\n",
    "-,-,-,-,-,-,-,-,-,-,-,-\n",
    "-,-,-,-,-,-,-,-,-,-,-,-\n",
    "-,-,-,-,-,-,-,-,-,-,-,-\n",
    "-,-,-,-,-,-,-,-,-,-,-,-\n",
    "-,-,-,-,-,-,-,-,-,-,-,-\n",
    "-,-,-,-,-,-,-,-,-,-,-,-\n",
    "-,A,-,-,-,-,-,-,-,-,G,-\n",
    "x,x,-,x,x,x,x,x,x,x,x,x\n",
    "'''\n",
    "wall_test = parse_level(wall_test_str)\n",
    "\n",
    "jump_over_test_str = '''\n",
    "-,-,-,-,-,-,-,-,-,-,-,-\n",
    "-,-,-,-,-,-,-,-,-,-,-,-\n",
    "-,-,-,-,-,-,-,-,-,-,-,-\n",
    "-,-,-,-,-,-,-,-,-,-,-,-\n",
    "-,-,-,-,-,-,-,-,-,-,-,-\n",
    "-,-,-,-,-,-,-,-,-,-,-,-\n",
    "-,-,-,-,-,-,-,-,-,-,-,-\n",
    "-,-,-,-,-,-,-,-,-,-,-,-\n",
    "-,-,-,-,-,-,-,-,-,-,-,-\n",
    "-,-,-,-,-,-,-,-,-,-,-,-\n",
    "-,B,x,-,-,-,-,-,-,A,G,-\n",
    "x,x,x,x,x,x,x,x,x,x,x,x\n",
    "'''\n",
    "jump_over_test = parse_level(jump_over_test_str)\n",
    "\n",
    "level_0_str = '''\n",
    "-,-,-,-,-,x,-,-,-,-,-,-\n",
    "-,-,-,-,-,x,-,-,-,-,-,-\n",
    "-,-,-,-,-,x,-,-,-,-,-,-\n",
    "-,-,-,-,-,x,-,-,-,-,-,-\n",
    "-,-,-,-,-,x,-,-,-,-,-,-\n",
    "-,-,-,-,-,x,-,-,-,-,-,-\n",
    "-,-,-,-,-,x,-,-,-,-,-,-\n",
    "-,-,-,-,-,x,-,-,-,-,-,-\n",
    "x,-,-,-,-,x,-,-,-,-,-,x\n",
    "x,-,-,-,-,x,-,-,-,-,-,x\n",
    "x,A,B,k,-,&,-,-,-,-,G,x\n",
    "x,x,x,x,x,x,x,x,x,x,x,x\n",
    "'''\n",
    "\n",
    "level_0 = parse_level(level_0_str)\n",
    "\n",
    "level_1_str = '''\n",
    "-,-,-,-,-,-,-,-,x,-,-,-\n",
    "-,-,-,-,-,-,-,-,x,-,-,-\n",
    "-,-,-,-,-,-,-,-,x,-,-,-\n",
    "-,-,-,-,-,-,-,-,x,-,-,-\n",
    "-,-,-,-,-,-,-,-,x,-,-,-\n",
    "-,-,-,-,-,-,-,-,x,-,-,-\n",
    "-,-,-,-,-,-,-,-,x,-,-,-\n",
    "-,-,-,-,-,-,-,-,x,-,-,-\n",
    "-,-,-,-,-,k,-,-,x,-,-,-\n",
    "-,-,-,-,-,x,-,-,x,-,-,-\n",
    "-,A,B,-,-,-,-,-,&,-,G,-\n",
    "x,x,x,x,x,x,x,x,x,x,x,x\n",
    "'''\n",
    "\n",
    "level_1 = parse_level(level_1_str)\n",
    "\n",
    "level_2_str = '''\n",
    "-,-,v,-,-,-,-,-,-,-,x,-\n",
    "-,-,z,-,-,-,-,-,-,-,x,-\n",
    "-,-,z,-,-,-,-,-,-,-,x,-\n",
    "-,-,z,-,-,-,-,-,-,-,x,-\n",
    "-,-,z,-,-,-,-,-,-,-,x,-\n",
    "-,-,z,-,-,-,-,-,-,-,x,-\n",
    "-,-,z,-,-,-,-,-,-,-,x,-\n",
    "-,-,z,-,-,-,-,-,-,-,x,-\n",
    "-,-,z,-,-,-,-,-,-,-,x,-\n",
    "-,-,z,-,-,-,-,-,-,-,x,-\n",
    "k,-,z,-,A,-,B,n,-,-,&,G\n",
    "x,x,x,x,x,x,x,x,x,x,x,x\n",
    "'''\n",
    "\n",
    "level_2 = parse_level(level_2_str)\n",
    "\n",
    "level_3_str = '''\n",
    "-,-,z,-,-,-,-,-,-,-,x,-\n",
    "-,-,z,-,-,-,-,-,-,-,x,-\n",
    "-,-,z,-,-,-,-,-,-,-,x,-\n",
    "-,-,z,-,-,-,-,-,-,-,x,-\n",
    "-,-,z,-,-,-,-,-,-,-,x,-\n",
    "-,-,z,-,-,-,-,-,-,-,x,-\n",
    "-,-,z,-,-,-,-,-,-,-,x,-\n",
    "-,-,z,-,-,-,-,-,-,-,x,-\n",
    "-,-,z,-,-,-,-,-,-,-,x,-\n",
    "-,-,z,-,-,-,-,-,-,-,x,-\n",
    "k,-,^,-,A,-,B,n,-,-,&,G\n",
    "x,x,x,x,x,x,x,x,x,x,x,x\n",
    "'''\n",
    "\n",
    "level_3 = parse_level(level_3_str)\n",
    "\n",
    "level_4_str = '''\n",
    "-,-,-,-,z,-,-,-,-,-,x,-\n",
    "-,-,-,-,z,-,-,-,-,-,x,-\n",
    "-,-,-,-,z,-,-,-,-,-,x,-\n",
    "-,-,-,-,z,-,-,-,-,-,x,-\n",
    "-,-,-,-,z,-,-,-,-,-,x,-\n",
    "-,-,-,-,z,-,-,-,-,-,x,-\n",
    "-,-,-,-,z,-,-,-,-,-,x,-\n",
    "-,-,-,-,z,-,-,-,-,-,x,-\n",
    "k,-,-,-,z,-,-,-,-,-,x,-\n",
    "x,-,-,-,z,-,-,-,-,-,x,-\n",
    "-,-,n,-,^,A,B,-,n,-,&,G\n",
    "x,x,x,x,x,x,x,x,x,x,x,x\n",
    "'''\n",
    "\n",
    "level_4 = parse_level(level_4_str)\n",
    "\n",
    "level_5_str = '''\n",
    "-,-,-,-,-,-,-,-,-,-,-,-\n",
    "-,-,-,-,-,-,-,-,-,-,-,-\n",
    "-,-,-,-,-,-,-,-,-,-,-,-\n",
    "-,-,-,-,-,-,-,-,-,-,-,-\n",
    "-,-,-,-,-,-,-,-,-,-,-,-\n",
    "-,-,-,-,-,-,-,-,-,-,-,-\n",
    "-,-,-,-,-,-,-,-,-,-,-,-\n",
    "-,-,-,-,-,-,-,-,-,-,-,-\n",
    "-,-,-,-,-,-,-,-,-,-,-,-\n",
    "-,-,-,-,-,-,-,-,-,-,x,-\n",
    "A,B,-,k,-,k,-,k,-,&,x,G\n",
    "x,x,x,x,x,x,x,x,x,x,x,x\n",
    "'''\n",
    "\n",
    "level_5 = parse_level(level_5_str)\n",
    "\n",
    "level_6_str = '''\n",
    "-,-,-,-,-,-,-,-,-,-,-,-\n",
    "-,-,-,-,-,-,-,-,-,-,-,-\n",
    "-,-,-,-,-,-,-,-,-,-,-,-\n",
    "-,-,-,-,-,-,-,-,-,-,-,-\n",
    "-,-,-,-,-,-,-,-,-,-,-,-\n",
    "-,-,-,-,-,-,-,-,-,-,-,-\n",
    "-,-,-,-,-,-,-,-,-,-,-,-\n",
    "-,-,-,-,-,-,-,-,-,-,-,-\n",
    "-,-,-,-,-,-,-,-,-,-,-,-\n",
    "-,-,v,-,-,x,-,-,v,-,-,-\n",
    "A,B,z,-,n,x,-,-,z,-,n,G\n",
    "x,x,x,x,x,x,x,x,x,x,x,x\n",
    "'''\n",
    "\n",
    "level_6 = parse_level(level_6_str)\n",
    "\n",
    "level_7_str = '''\n",
    "-,-,-,-,-,-,-,-,-,-,-,-\n",
    "-,-,-,-,-,-,-,-,-,-,-,-\n",
    "-,-,-,-,-,-,-,-,-,-,-,-\n",
    "-,-,-,-,-,-,-,-,-,-,-,-\n",
    "-,-,-,-,-,-,-,-,-,-,-,-\n",
    "-,-,-,-,-,-,-,-,-,-,-,-\n",
    "-,x,-,-,-,-,-,-,-,-,-,-\n",
    "-,x,x,-,-,-,-,-,-,-,-,-\n",
    "-,x,x,x,-,-,-,-,-,-,-,-\n",
    "-,v,v,v,x,-,-,-,-,-,-,-\n",
    "k,z,z,z,-,-,A,B,-,n,-,G\n",
    "x,x,x,x,x,x,x,x,x,x,x,x\n",
    "'''\n",
    "\n",
    "level_7 = parse_level(level_7_str)\n",
    "\n",
    "level_8_str = '''\n",
    "-,-,v,-,-,-,-,-,v,-,x,-\n",
    "-,-,z,-,-,-,-,-,z,-,x,-\n",
    "-,-,z,-,-,-,-,-,z,-,x,-\n",
    "-,-,z,-,-,-,-,-,z,-,x,-\n",
    "-,-,z,-,-,-,-,-,z,-,x,-\n",
    "-,-,z,-,-,-,-,-,z,-,x,-\n",
    "-,-,z,-,-,-,-,-,z,-,x,-\n",
    "-,-,z,-,-,-,-,-,z,-,x,-\n",
    "-,-,z,-,-,-,-,-,z,-,x,-\n",
    "-,-,z,-,-,-,-,-,z,-,&,-\n",
    "G,k,z,n,A,-,-,B,z,n,x,G\n",
    "x,x,x,x,x,-,-,x,x,x,x,x\n",
    "'''\n",
    "\n",
    "level_8 = parse_level(level_8_str)\n",
    "\n",
    "level_9_str = '''\n",
    "-,-,-,-,-,-,-,-,-,-,-,-\n",
    "-,-,-,-,-,-,-,-,-,-,-,G\n",
    "x,x,x,x,x,x,x,x,x,-,-,x\n",
    "-,-,-,-,v,-,-,-,-,-,&,x\n",
    "A,-,n,-,z,-,n,-,-,x,-,-\n",
    "x,x,x,x,x,x,x,x,x,x,x,x\n",
    "-,-,-,-,-,-,-,-,-,-,-,-\n",
    "-,-,-,-,-,-,-,-,-,-,-,G\n",
    "x,x,x,x,x,x,x,x,-,-,-,x\n",
    "-,v,-,-,-,v,-,-,-,-,x,-\n",
    "B,z,-,n,-,z,-,k,-,x,x,-\n",
    "x,x,x,x,x,x,x,x,x,x,x,x\n",
    "'''\n",
    "\n",
    "level_9 = parse_level(level_9_str)\n",
    "\n",
    "level_10_str = '''\n",
    "-,-,-,-,-,-,-,-,-,-,-,-\n",
    "-,-,-,-,-,-,-,-,-,-,-,-\n",
    "-,-,-,-,-,-,-,-,-,-,-,-\n",
    "-,-,-,-,-,-,-,-,-,-,-,-\n",
    "-,-,-,-,-,-,-,-,-,-,-,-\n",
    "-,-,-,-,-,-,-,-,-,-,-,-\n",
    "-,-,-,x,-,-,-,-,-,-,-,-\n",
    "-,-,x,x,-,x,x,-,-,-,-,-\n",
    "k,x,x,x,-,x,x,x,-,-,-,-\n",
    "x,x,x,x,&,x,x,x,x,-,-,-\n",
    "x,x,x,x,G,x,x,x,x,x,A,B\n",
    "x,x,x,x,x,x,x,x,x,x,x,x\n",
    "'''\n",
    "\n",
    "level_10 = parse_level(level_10_str)"
   ]
  },
  {
   "cell_type": "markdown",
   "metadata": {
    "id": "myKd7UnGGEBU"
   },
   "source": [
    "## Render"
   ]
  },
  {
   "cell_type": "code",
   "execution_count": 3,
   "metadata": {
    "ExecuteTime": {
     "end_time": "2023-12-12T16:47:01.015584Z",
     "start_time": "2023-12-12T16:47:00.893462Z"
    },
    "colab": {
     "base_uri": "https://localhost:8080/",
     "height": 657
    },
    "id": "FYgEechBGDPT",
    "outputId": "7d7de865-22b8-462e-c002-5564ac3d995d"
   },
   "outputs": [
    {
     "data": {
      "image/png": "[encoded data removed]",
      "text/plain": [
       "<Figure size 800x800 with 1 Axes>"
      ]
     },
     "metadata": {},
     "output_type": "display_data"
    }
   ],
   "source": [
    "import matplotlib.colors as mcolors\n",
    "\n",
    "def display_level_with_labels(level_data, idx=0):\n",
    "    # Color mapping for each tile\n",
    "    color_map = {\n",
    "        '-': 'white',\n",
    "        'x': 'gray',\n",
    "        'A': 'blue',\n",
    "        'B': 'green',\n",
    "        'C': 'red',\n",
    "        'D': 'purple',\n",
    "        'k': 'yellow',\n",
    "        'n': 'orange',\n",
    "        'u': 'cyan',\n",
    "        '&': 'brown',\n",
    "        'z': 'pink',\n",
    "        'v': 'lightblue',\n",
    "        '^': 'lightgreen',\n",
    "        'G': 'gold'\n",
    "    }\n",
    "\n",
    "    # Label mapping for each tile\n",
    "    label_map = {\n",
    "        '-': '',\n",
    "        'x': '',\n",
    "        'A': 'P1',\n",
    "        'B': 'P2',\n",
    "        'C': 'P3',\n",
    "        'D': 'P4',\n",
    "        'k': 'key',\n",
    "        'n': 'button',\n",
    "        'u': 'button',\n",
    "        '&': 'door',\n",
    "        'z': 'laser',\n",
    "        'v': 'laser \\nemitter',\n",
    "        '^': 'laser \\nemitter',\n",
    "        'G': 'goal'\n",
    "    }\n",
    "\n",
    "    # Convert tile symbols to RGB values using color map\n",
    "    rows, cols = level_data.shape\n",
    "    color_data = np.zeros((rows, cols, 4))\n",
    "    for i in range(rows):\n",
    "        for j in range(cols):\n",
    "            color_data[i, j] = mcolors.to_rgba(color_map[level_data[i, j]])\n",
    "\n",
    "    fig, ax = plt.subplots(figsize=(8, 8))\n",
    "    ax.imshow(color_data)\n",
    "\n",
    "    # Add labels\n",
    "    for i in range(rows):\n",
    "        for j in range(cols):\n",
    "            label = label_map[level_data[i, j]]\n",
    "            ax.text(j, i, label, ha='center', va='center', color='black' if level_data[i, j] in ['-', 'k', 'G', 'u', 'n', 'z', 'v', '^'] else 'white')\n",
    "\n",
    "    ax.set_xticks(np.arange(-0.5, 12, 1))\n",
    "    ax.set_yticks(np.arange(-0.5, 12, 1))\n",
    "    ax.set_xticklabels([])\n",
    "    ax.set_yticklabels([])\n",
    "    ax.grid(which='both', color='black', linewidth=2)\n",
    "    ax.set_aspect('equal')\n",
    "\n",
    "    plt.show()\n",
    "\n",
    "display_level_with_labels(level_2)"
   ]
  },
  {
   "cell_type": "code",
   "execution_count": 4,
   "metadata": {
    "ExecuteTime": {
     "end_time": "2023-12-12T16:47:01.023844Z",
     "start_time": "2023-12-12T16:47:01.021061Z"
    }
   },
   "outputs": [],
   "source": [
    "def print_to_string(level):\n",
    "    level_string = ''\n",
    "    for row in level:\n",
    "        level_string = level_string + ','.join(row) + '\\n'\n",
    "    return level_string"
   ]
  },
  {
   "cell_type": "markdown",
   "metadata": {
    "id": "lXal8_xEFpoM"
   },
   "source": [
    "## Engine"
   ]
  },
  {
   "cell_type": "code",
   "execution_count": 5,
   "metadata": {
    "ExecuteTime": {
     "end_time": "2023-12-12T16:47:01.037950Z",
     "start_time": "2023-12-12T16:47:01.025052Z"
    },
    "id": "kH6MX3hZFh2B"
   },
   "outputs": [],
   "source": [
    "def move_player(level_data, x, y, dx, dy):\n",
    "    '''Move a player in the level_data by dx and dy if possible.'''\n",
    "    player_symbol = level_data[x, y]\n",
    "    new_x, new_y = x + dx, y + dy\n",
    "    target_cell = level_data[new_x, new_y]\n",
    "\n",
    "    if target_cell not in ['x', '&', 'v', '^', 'A', 'B', 'C', 'D', 'n', 'u']:  # fail if not solid\n",
    "\n",
    "        if target_cell == 'k':  # key logic\n",
    "            level_data[level_data == '&'] = '-'  # Open all doors\n",
    "            level_data[new_x, new_y] = player_symbol\n",
    "            level_data[x, y] = '-'\n",
    "\n",
    "        elif target_cell == 'G':  # goal logic\n",
    "            level_data[x, y] = '-'\n",
    "\n",
    "        else:\n",
    "            level_data[x, y], level_data[new_x, new_y] = '-', player_symbol\n",
    "\n",
    "def jump_over(level_data, x, y, direction):\n",
    "    offset = -1 if direction == 'left' else 1\n",
    "\n",
    "    # Check if the jump is within bounds\n",
    "    if not (0 <= x - 1 < 12) or not (0 <= y + 2*offset < 12):\n",
    "        return (0, 0)\n",
    "\n",
    "    # Check for laser at one up and one to the direction\n",
    "    if level_data[x-1, y+offset] == 'z':\n",
    "        return (None, None)\n",
    "\n",
    "    # Check if one up and one to the direction is blocked by a non-laser\n",
    "    if level_data[x-1, y+offset] in ['x', 'v', '^', '&', 'A', 'B', 'C', 'D']:\n",
    "        return (0, 0)\n",
    "\n",
    "    # Check if two to the direction and one up is blocked\n",
    "    if level_data[x-1, y+2*offset] in ['x', 'v', '^', '&', 'A', 'B', 'C', 'D', 'z']:\n",
    "        return (-1, offset)\n",
    "\n",
    "    # If both checks pass, move two to the direction\n",
    "    return (0, 2*offset)\n",
    "\n",
    "def handle_player_action(level_data, player, action):\n",
    "    x, y = np.where(level_data == player)\n",
    "    if len(x) == 0:\n",
    "        return level_data\n",
    "    x, y = x[0], y[0]\n",
    "\n",
    "    moves = {\n",
    "        'move left': (0, -1),\n",
    "        'move right': (0, 1),\n",
    "        'jump on left': (-1, -1),\n",
    "        'jump on right': (-1, 1),\n",
    "        'jump over left': jump_over(level_data, x, y, 'left'),\n",
    "        'jump over right': jump_over(level_data, x, y, 'right')\n",
    "    }\n",
    "\n",
    "    dx, dy = moves.get(action, (0, 0))\n",
    "    if dx is None:\n",
    "      level_data[x, y] = '-'\n",
    "      return level_data\n",
    "\n",
    "    if 0 <= x + dx < 12 and 0 <= y + dy < 12:  # Ensure within bounds\n",
    "        move_player(level_data, x, y, dx, dy)\n",
    "\n",
    "    return level_data\n",
    "\n",
    "def apply_gravity(updated_data):\n",
    "    players = ['A', 'B', 'C', 'D']\n",
    "\n",
    "    for _ in range(11):\n",
    "        for i in range(11, 0, -1):\n",
    "            for j in range(12):\n",
    "                cell = updated_data[i-1, j]\n",
    "                if cell in players and updated_data[i, j] == '-':\n",
    "                    updated_data[i-1, j], updated_data[i, j] = updated_data[i, j], updated_data[i-1, j]\n",
    "\n",
    "    # Remove players if they fall into the bottom row\n",
    "    for j in range(12):\n",
    "        if updated_data[11, j] in players:\n",
    "            updated_data[11, j] = '-'\n",
    "\n",
    "    return updated_data\n",
    "\n",
    "# Todo: move into apply interactions\n",
    "def apply_button_interactions(updated_data):\n",
    "    players = ['A', 'B', 'C', 'D']\n",
    "\n",
    "    # Button Activation/Deactivation\n",
    "    for i in range(11):\n",
    "        for j in range(12):\n",
    "            if updated_data[i, j] in players and updated_data[i+1, j] == 'n':\n",
    "                updated_data[i+1, j] = 'u'\n",
    "            elif updated_data[i, j] == '-' and updated_data[i+1, j] == 'u':\n",
    "                updated_data[i+1, j] = 'n'\n",
    "\n",
    "    # Laser Activation/Deactivation\n",
    "    if 'u' in updated_data:  # If any button is activated\n",
    "        updated_data[updated_data == 'z'] = '-'\n",
    "    else:  # No button is activated\n",
    "        for j in range(12):\n",
    "            laser_active = False\n",
    "            for i in range(12):\n",
    "                if updated_data[i, j] == 'v':\n",
    "                    laser_active = True\n",
    "                elif updated_data[i, j] == '^':\n",
    "                    laser_active = False\n",
    "                elif laser_active and updated_data[i, j] not in ['x', '&', 'n', 'u', 'k', 'G']:\n",
    "                    if updated_data[i, j] in players:\n",
    "                        updated_data[i, j] = 'z'  # Keep the laser active even if a player was there\n",
    "                    else:\n",
    "                        updated_data[i, j] = 'z'\n",
    "\n",
    "    return updated_data\n",
    "\n",
    "def apply_actions(level_data, actions):\n",
    "    updated_data = level_data.copy()\n",
    "    for player, action in actions.items():\n",
    "        updated_data = handle_player_action(updated_data, player, action)\n",
    "    return updated_data\n",
    "\n",
    "def apply_game_updates(level_data, actions):\n",
    "    '''Integrate all actions and interactions.'''\n",
    "    updated_data = apply_actions(level_data, actions)\n",
    "    updated_data = apply_gravity(updated_data)\n",
    "    updated_data = apply_button_interactions(updated_data)\n",
    "\n",
    "    return updated_data\n"
   ]
  },
  {
   "cell_type": "markdown",
   "metadata": {},
   "source": [
    "# Demo"
   ]
  },
  {
   "cell_type": "code",
   "execution_count": 6,
   "metadata": {
    "ExecuteTime": {
     "end_time": "2023-12-12T16:49:35.110393Z",
     "start_time": "2023-12-12T16:49:35.057918Z"
    }
   },
   "outputs": [],
   "source": [
    "def agent_loop(prompt, openai_api_key, level, agent_thoughts, player):\n",
    "    openai.api_key = openai_api_key\n",
    "    client = openai.OpenAI(api_key=openai_api_key)\n",
    "\n",
    "    with open(prompt[0], 'r') as f:\n",
    "        system_prompt = f.read()\n",
    "        \n",
    "    with open(prompt[1], 'r') as f:\n",
    "        task_prompt = f.read()\n",
    "    \n",
    "    response = client.chat.completions.create(\n",
    "        # model='gpt-3.5-turbo',\n",
    "        model='gpt-3.5-turbo-1106',\n",
    "        # model='gpt-4',\n",
    "        response_format={ 'type': 'json_object' },\n",
    "        messages=[\n",
    "            {'role': 'system', 'content': system_prompt.format(player=player)},\n",
    "            {'role': 'user', 'content': task_prompt.format(level=level,\n",
    "                                                           thoughts=agent_thoughts,\n",
    "                                                           player=player)}\n",
    "        ]\n",
    "        # temperature=0,\n",
    "        # max_tokens=1024,\n",
    "        # top_p=1,\n",
    "        # frequency_penalty=0,\n",
    "        # presence_penalty=0\n",
    "    )\n",
    "\n",
    "    outcome = response.choices[0].message.content\n",
    "    return outcome"
   ]
  },
  {
   "cell_type": "code",
   "execution_count": 7,
   "metadata": {
    "ExecuteTime": {
     "end_time": "2023-12-12T16:47:01.056761Z",
     "start_time": "2023-12-12T16:47:01.052289Z"
    }
   },
   "outputs": [],
   "source": [
    "understand_planes_1_a3 = \"\"\"\n",
    "-,-,-,-,-,-,-,-,-,-,-,-\n",
    "-,-,-,-,-,-,-,-,-,-,-,-\n",
    "-,-,-,-,-,-,-,-,-,-,-,-\n",
    "-,-,-,-,-,-,-,-,-,-,-,-\n",
    "-,-,-,-,-,-,-,-,-,-,-,-\n",
    "-,-,-,-,-,-,-,-,-,-,-,-\n",
    "-,-,-,-,-,-,-,-,-,-,-,-\n",
    "-,-,-,-,-,-,-,-,-,-,G,-\n",
    "-,-,-,-,x,-,x,x,x,x,x,x\n",
    "-,-,-,x,x,-,-,-,-,-,-,-\n",
    "A,-,x,x,x,-,-,-,-,-,-,-\n",
    "x,x,x,x,x,x,x,x,x,x,x,x\n",
    "\"\"\"\n",
    "\n",
    "level = parse_level(understand_planes_1_a3)\n",
    "\n",
    "current_level = level.copy()"
   ]
  },
  {
   "cell_type": "code",
   "execution_count": 8,
   "metadata": {
    "ExecuteTime": {
     "end_time": "2023-12-12T16:47:01.516821Z",
     "start_time": "2023-12-12T16:47:01.057672Z"
    }
   },
   "outputs": [
    {
     "name": "stdout",
     "output_type": "stream",
     "text": [
      "==================================================================\n",
      "Before we start, this is how the game looks like. \n"
     ]
    },
    {
     "data": {
      "image/png": "[encoded data removed]",
      "text/plain": [
       "<Figure size 800x800 with 1 Axes>"
      ]
     },
     "metadata": {},
     "output_type": "display_data"
    },
    {
     "name": "stdout",
     "output_type": "stream",
     "text": [
      "==================================================================\n",
      "Round: 1, Current player list: ['A']\n",
      "For player A, LLM outcome:\n",
      "\n",
      " {\n",
      "  \"move\": \"jump on right\",\n",
      "  \"communication\": \"I will jump on the right to avoid the laser emitter and prepare to move towards the door. We need to make sure to deactivate the laser before we can move forward. Once I reach the key, I'll unlock the door for the others to pass through.\"\n",
      "} \n",
      "\n",
      "After player A take the move, here is how the game looks like: \n"
     ]
    },
    {
     "data": {
      "image/png": "[encoded data removed]",
      "text/plain": [
       "<Figure size 800x800 with 1 Axes>"
      ]
     },
     "metadata": {},
     "output_type": "display_data"
    },
    {
     "name": "stdout",
     "output_type": "stream",
     "text": [
      "The moves collected till this round: [{'A': 'jump on right'}]\n",
      "==================================================================\n",
      "Round: 2, Current player list: ['A']\n",
      "For player A, LLM outcome:\n",
      "\n",
      " {\n",
      "  \"move\": \"move right\",\n",
      "  \"communication\": \"I will move right to position myself closer to the key, so that I can unlock the door and clear the path for all players to reach the goal.\"\n",
      "} \n",
      "\n",
      "After player A take the move, here is how the game looks like: \n"
     ]
    },
    {
     "data": {
      "image/png": "[encoded data removed]",
      "text/plain": [
       "<Figure size 800x800 with 1 Axes>"
      ]
     },
     "metadata": {},
     "output_type": "display_data"
    },
    {
     "name": "stdout",
     "output_type": "stream",
     "text": [
      "The moves collected till this round: [{'A': 'jump on right'}, {'A': 'move right'}]\n",
      "==================================================================\n",
      "Round: 3, Current player list: ['A']\n",
      "For player A, LLM outcome:\n",
      "\n",
      " {\n",
      "  \"move\": \"move right\",\n",
      "  \"communication\": \"I will move right to clear the way for other players to make their moves and continue towards the goal. Once I reach the obstacle, I can help deactivate the laser to remove the barrier for the others.\"\n",
      "} \n",
      "\n",
      "After player A take the move, here is how the game looks like: \n"
     ]
    },
    {
     "data": {
      "image/png": "[encoded data removed]",
      "text/plain": [
       "<Figure size 800x800 with 1 Axes>"
      ]
     },
     "metadata": {},
     "output_type": "display_data"
    },
    {
     "name": "stdout",
     "output_type": "stream",
     "text": [
      "The moves collected till this round: [{'A': 'jump on right'}, {'A': 'move right'}, {'A': 'move right'}]\n",
      "==================================================================\n",
      "Round: 4, Current player list: ['A']\n",
      "For player A, LLM outcome:\n",
      "\n",
      " {\n",
      "  \"move\": \"jump on right\",\n",
      "  \"communication\": \"I will jump on the button ('u') to deactivate the laser ('z') and clear the path to the goal for all players. This will support the plan to remove the obstacle on the path to the goal and allow us to progress further.\" \n",
      "} \n",
      "\n",
      "After player A take the move, here is how the game looks like: \n"
     ]
    },
    {
     "data": {
      "image/png": "[encoded data removed]",
      "text/plain": [
       "<Figure size 800x800 with 1 Axes>"
      ]
     },
     "metadata": {},
     "output_type": "display_data"
    },
    {
     "name": "stdout",
     "output_type": "stream",
     "text": [
      "The moves collected till this round: [{'A': 'jump on right'}, {'A': 'move right'}, {'A': 'move right'}, {'A': 'jump on right'}]\n",
      "==================================================================\n",
      "Round: 5, Current player list: ['A']\n",
      "For player A, LLM outcome:\n",
      "\n",
      " {\n",
      "  \"move\": \"move right\",\n",
      "  \"communication\": \"I will move right to clear the path for the other players. It looks like the direct path to the goal is blocked by a door (&), so we'll need to find the key (k) to unlock it. Moving right will position me closer to the area where the key might be located.\"\n",
      "} \n",
      "\n",
      "After player A take the move, here is how the game looks like: \n"
     ]
    },
    {
     "data": {
      "image/png": "[encoded data removed]",
      "text/plain": [
       "<Figure size 800x800 with 1 Axes>"
      ]
     },
     "metadata": {},
     "output_type": "display_data"
    },
    {
     "name": "stdout",
     "output_type": "stream",
     "text": [
      "The moves collected till this round: [{'A': 'jump on right'}, {'A': 'move right'}, {'A': 'move right'}, {'A': 'jump on right'}, {'A': 'move right'}]\n",
      "==================================================================\n",
      "Round: 6, Current player list: ['A']\n",
      "For player A, LLM outcome:\n",
      "\n",
      " {\n",
      "  \"move\": \"move right\",\n",
      "  \"communication\": \"I will move right to position myself closer to the key ('k') and the door ('&'). Once I reach the key, I can unlock the door, allowing us to proceed towards the goal. This will help us clear the path to the goal and support the overall plan.\"\n",
      "} \n",
      "\n",
      "After player A take the move, here is how the game looks like: \n"
     ]
    },
    {
     "data": {
      "image/png": "[encoded data removed]",
      "text/plain": [
       "<Figure size 800x800 with 1 Axes>"
      ]
     },
     "metadata": {},
     "output_type": "display_data"
    },
    {
     "name": "stdout",
     "output_type": "stream",
     "text": [
      "The moves collected till this round: [{'A': 'jump on right'}, {'A': 'move right'}, {'A': 'move right'}, {'A': 'jump on right'}, {'A': 'move right'}, {'A': 'move right'}]\n",
      "==================================================================\n",
      "Round: 7, Current player list: ['A']\n",
      "For player A, LLM outcome:\n",
      "\n",
      " {\n",
      "  \"move\": \"jump on right\",\n",
      "  \"communication\": \"I will jump on the right to avoid the laser and get closer to the key. This will support the plan to unlock the door and clear the path to the goal.\"\n",
      "} \n",
      "\n",
      "After player A take the move, here is how the game looks like: \n"
     ]
    },
    {
     "data": {
      "image/png": "[encoded data removed]",
      "text/plain": [
       "<Figure size 800x800 with 1 Axes>"
      ]
     },
     "metadata": {},
     "output_type": "display_data"
    },
    {
     "name": "stdout",
     "output_type": "stream",
     "text": [
      "The moves collected till this round: [{'A': 'jump on right'}, {'A': 'move right'}, {'A': 'move right'}, {'A': 'jump on right'}, {'A': 'move right'}, {'A': 'move right'}, {'A': 'jump on right'}]\n",
      "==================================================================\n",
      "Round: 8, Current player list: ['A']\n",
      "For player A, LLM outcome:\n",
      "\n",
      " {\n",
      "  \"move\": \"move right\",\n",
      "  \"communication\": \"I will move right to position A closer to the key('k') to unlock the door('&') and clear the path to the goal.\"\n",
      "} \n",
      "\n",
      "After player A take the move, here is how the game looks like: \n"
     ]
    },
    {
     "data": {
      "image/png": "[encoded data removed]",
      "text/plain": [
       "<Figure size 800x800 with 1 Axes>"
      ]
     },
     "metadata": {},
     "output_type": "display_data"
    },
    {
     "name": "stdout",
     "output_type": "stream",
     "text": [
      "The moves collected till this round: [{'A': 'jump on right'}, {'A': 'move right'}, {'A': 'move right'}, {'A': 'jump on right'}, {'A': 'move right'}, {'A': 'move right'}, {'A': 'jump on right'}, {'A': 'move right'}]\n",
      "==================================================================\n",
      "Round: 9, Current player list: ['A']\n",
      "For player A, LLM outcome:\n",
      "\n",
      " {\n",
      "  \"move\": \"move right\",\n",
      "  \"communication\": \"I will move right to get closer to the key ('k') in order to unlock the door on the path to the goal. This will help us clear the obstacle and progress towards the goal.\"\n",
      "} \n",
      "\n",
      "After player A take the move, here is how the game looks like: \n"
     ]
    },
    {
     "data": {
      "image/png": "[encoded data removed]",
      "text/plain": [
       "<Figure size 800x800 with 1 Axes>"
      ]
     },
     "metadata": {},
     "output_type": "display_data"
    },
    {
     "name": "stdout",
     "output_type": "stream",
     "text": [
      "The moves collected till this round: [{'A': 'jump on right'}, {'A': 'move right'}, {'A': 'move right'}, {'A': 'jump on right'}, {'A': 'move right'}, {'A': 'move right'}, {'A': 'jump on right'}, {'A': 'move right'}, {'A': 'move right'}]\n",
      "==================================================================\n",
      "Round: 10, Current player list: ['A']\n",
      "For player A, LLM outcome:\n",
      "\n",
      " {\n",
      "  \"move\": \"jump on right\",\n",
      "  \"communication\": \"I will jump on the button to deactivate the laser. This will clear the path for the next player to move towards the goal. Over to you, P2.\"\n",
      "} \n",
      "\n",
      "After player A take the move, here is how the game looks like: \n"
     ]
    },
    {
     "data": {
      "image/png": "[encoded data removed]",
      "text/plain": [
       "<Figure size 800x800 with 1 Axes>"
      ]
     },
     "metadata": {},
     "output_type": "display_data"
    },
    {
     "name": "stdout",
     "output_type": "stream",
     "text": [
      "The moves collected till this round: [{'A': 'jump on right'}, {'A': 'move right'}, {'A': 'move right'}, {'A': 'jump on right'}, {'A': 'move right'}, {'A': 'move right'}, {'A': 'jump on right'}, {'A': 'move right'}, {'A': 'move right'}, {'A': 'jump on right'}]\n",
      "==================================================================\n",
      "Round: 11, Current player list: ['A']\n",
      "For player A, LLM outcome:\n",
      "\n",
      " {\n",
      "  \"move\": \"jump on right\",\n",
      "  \"communication\": \"I will jump on the right to reach the key tile and unlock the door in order to clear the path for all of us to reach the goal. This move will support the plan of removing the obstacle on the path to the goal, as discussed by the other players. I confirm that I support the current plan and will proceed with the next move accordingly.\"\n",
      "} \n",
      "\n",
      "After player A take the move, here is how the game looks like: \n"
     ]
    },
    {
     "data": {
      "image/png": "[encoded data removed]",
      "text/plain": [
       "<Figure size 800x800 with 1 Axes>"
      ]
     },
     "metadata": {},
     "output_type": "display_data"
    },
    {
     "name": "stdout",
     "output_type": "stream",
     "text": [
      "The moves collected till this round: [{'A': 'jump on right'}, {'A': 'move right'}, {'A': 'move right'}, {'A': 'jump on right'}, {'A': 'move right'}, {'A': 'move right'}, {'A': 'jump on right'}, {'A': 'move right'}, {'A': 'move right'}, {'A': 'jump on right'}, {'A': 'jump on right'}]\n",
      "==================================================================\n",
      "Round: 12, Current player list: ['A']\n",
      "For player A, LLM outcome:\n",
      "\n",
      " {\n",
      "  \"move\": \"move right\",\n",
      "  \"communication\": \"I will move right to position A on the key tile ('k') to unlock the door('&'). This will clear the path for all players to reach the goal. This move supports the plan to remove the obstacle on the path to the goal and allows other players to progress towards the goal.\"\n",
      "} \n",
      "\n",
      "After player A take the move, here is how the game looks like: \n"
     ]
    },
    {
     "data": {
      "image/png": "[encoded data removed]",
      "text/plain": [
       "<Figure size 800x800 with 1 Axes>"
      ]
     },
     "metadata": {},
     "output_type": "display_data"
    },
    {
     "name": "stdout",
     "output_type": "stream",
     "text": [
      "The moves collected till this round: [{'A': 'jump on right'}, {'A': 'move right'}, {'A': 'move right'}, {'A': 'jump on right'}, {'A': 'move right'}, {'A': 'move right'}, {'A': 'jump on right'}, {'A': 'move right'}, {'A': 'move right'}, {'A': 'jump on right'}, {'A': 'jump on right'}, {'A': 'move right'}]\n",
      "==================================================================\n",
      "Round: 13, Current player list: ['A']\n",
      "For player A, LLM outcome:\n",
      "\n",
      " {\n",
      "    \"move\": \"move right\",\n",
      "    \"communication\": \"I will move right to get closer to the key tile ('k'). Once we have the key, we can unlock the door and proceed towards the goal. Let's stay coordinated and clear the path together.\"\n",
      "} \n",
      "\n",
      "After player A take the move, here is how the game looks like: \n"
     ]
    },
    {
     "data": {
      "image/png": "[encoded data removed]",
      "text/plain": [
       "<Figure size 800x800 with 1 Axes>"
      ]
     },
     "metadata": {},
     "output_type": "display_data"
    },
    {
     "name": "stdout",
     "output_type": "stream",
     "text": [
      "The moves collected till this round: [{'A': 'jump on right'}, {'A': 'move right'}, {'A': 'move right'}, {'A': 'jump on right'}, {'A': 'move right'}, {'A': 'move right'}, {'A': 'jump on right'}, {'A': 'move right'}, {'A': 'move right'}, {'A': 'jump on right'}, {'A': 'jump on right'}, {'A': 'move right'}, {'A': 'move right'}]\n",
      "==================================================================\n",
      "Round: 14, Current player list: ['A']\n",
      "For player A, LLM outcome:\n",
      "\n",
      " {\n",
      "  \"move\": \"jump on right\",\n",
      "  \"communication\": \"I will jump on the right to move towards the key 'k'. This will allow me to unlock the door '&' and clear the path for all players to reach the goal 'G'.\"\n",
      "} \n",
      "\n",
      "After player A take the move, here is how the game looks like: \n"
     ]
    },
    {
     "data": {
      "image/png": "[encoded data removed]",
      "text/plain": [
       "<Figure size 800x800 with 1 Axes>"
      ]
     },
     "metadata": {},
     "output_type": "display_data"
    },
    {
     "name": "stdout",
     "output_type": "stream",
     "text": [
      "The moves collected till this round: [{'A': 'jump on right'}, {'A': 'move right'}, {'A': 'move right'}, {'A': 'jump on right'}, {'A': 'move right'}, {'A': 'move right'}, {'A': 'jump on right'}, {'A': 'move right'}, {'A': 'move right'}, {'A': 'jump on right'}, {'A': 'jump on right'}, {'A': 'move right'}, {'A': 'move right'}, {'A': 'jump on right'}]\n",
      "==================================================================\n",
      "Round: 15, Current player list: ['A']\n",
      "For player A, LLM outcome:\n",
      "\n",
      " {\n",
      "  \"move\": \"jump on left\",\n",
      "  \"communication\": \"I am going to jump to the left in order to bypass the laser emitter and the door. This will help us get closer to the goal without getting blocked by the obstacles.\"\n",
      "} \n",
      "\n",
      "After player A take the move, here is how the game looks like: \n"
     ]
    },
    {
     "data": {
      "image/png": "[encoded data removed]",
      "text/plain": [
       "<Figure size 800x800 with 1 Axes>"
      ]
     },
     "metadata": {},
     "output_type": "display_data"
    },
    {
     "name": "stdout",
     "output_type": "stream",
     "text": [
      "The moves collected till this round: [{'A': 'jump on right'}, {'A': 'move right'}, {'A': 'move right'}, {'A': 'jump on right'}, {'A': 'move right'}, {'A': 'move right'}, {'A': 'jump on right'}, {'A': 'move right'}, {'A': 'move right'}, {'A': 'jump on right'}, {'A': 'jump on right'}, {'A': 'move right'}, {'A': 'move right'}, {'A': 'jump on right'}, {'A': 'jump on left'}]\n",
      "==================================================================\n",
      "Round: 16, Current player list: ['A']\n",
      "For player A, LLM outcome:\n",
      "\n",
      " {\n",
      "  \"move\": \"move right\",\n",
      "  \"communication\": \"I will move right to reach the key ('k') and unlock the door ('&'). This will clear the path to the goal for the other players.\"\n",
      "} \n",
      "\n",
      "After player A take the move, here is how the game looks like: \n"
     ]
    },
    {
     "data": {
      "image/png": "[encoded data removed]",
      "text/plain": [
       "<Figure size 800x800 with 1 Axes>"
      ]
     },
     "metadata": {},
     "output_type": "display_data"
    },
    {
     "name": "stdout",
     "output_type": "stream",
     "text": [
      "The moves collected till this round: [{'A': 'jump on right'}, {'A': 'move right'}, {'A': 'move right'}, {'A': 'jump on right'}, {'A': 'move right'}, {'A': 'move right'}, {'A': 'jump on right'}, {'A': 'move right'}, {'A': 'move right'}, {'A': 'jump on right'}, {'A': 'jump on right'}, {'A': 'move right'}, {'A': 'move right'}, {'A': 'jump on right'}, {'A': 'jump on left'}, {'A': 'move right'}]\n",
      "==================================================================\n",
      "Round: 17, Current player list: ['A']\n",
      "For player A, LLM outcome:\n",
      "\n",
      " {\n",
      "  \"move\": \"move right\",\n",
      "  \"communication\": \"I will move right to reach the key ('k') tile. Once I collect the key, it will unlock the door and clear the path for the other players to proceed towards the goal.\"\n",
      "} \n",
      "\n",
      "After player A take the move, here is how the game looks like: \n"
     ]
    },
    {
     "data": {
      "image/png": "[encoded data removed]",
      "text/plain": [
       "<Figure size 800x800 with 1 Axes>"
      ]
     },
     "metadata": {},
     "output_type": "display_data"
    },
    {
     "name": "stdout",
     "output_type": "stream",
     "text": [
      "The moves collected till this round: [{'A': 'jump on right'}, {'A': 'move right'}, {'A': 'move right'}, {'A': 'jump on right'}, {'A': 'move right'}, {'A': 'move right'}, {'A': 'jump on right'}, {'A': 'move right'}, {'A': 'move right'}, {'A': 'jump on right'}, {'A': 'jump on right'}, {'A': 'move right'}, {'A': 'move right'}, {'A': 'jump on right'}, {'A': 'jump on left'}, {'A': 'move right'}, {'A': 'move right'}]\n",
      "==================================================================\n",
      "Round: 18, Current player list: ['A']\n",
      "For player A, LLM outcome:\n",
      "\n",
      " {\n",
      "  \"move\": \"jump on right\",\n",
      "  \"communication\": \"I will make a jump on the right to reach the button ('n') and deactivate the laser ('z') that blocks the path to the goal. This will clear the way for us to progress towards the goal.\"\n",
      "} \n",
      "\n",
      "After player A take the move, here is how the game looks like: \n"
     ]
    },
    {
     "data": {
      "image/png": "[encoded data removed]",
      "text/plain": [
       "<Figure size 800x800 with 1 Axes>"
      ]
     },
     "metadata": {},
     "output_type": "display_data"
    },
    {
     "name": "stdout",
     "output_type": "stream",
     "text": [
      "The moves collected till this round: [{'A': 'jump on right'}, {'A': 'move right'}, {'A': 'move right'}, {'A': 'jump on right'}, {'A': 'move right'}, {'A': 'move right'}, {'A': 'jump on right'}, {'A': 'move right'}, {'A': 'move right'}, {'A': 'jump on right'}, {'A': 'jump on right'}, {'A': 'move right'}, {'A': 'move right'}, {'A': 'jump on right'}, {'A': 'jump on left'}, {'A': 'move right'}, {'A': 'move right'}, {'A': 'jump on right'}]\n",
      "==================================================================\n",
      "Round: 19, Current player list: ['A']\n",
      "For player A, LLM outcome:\n",
      "\n",
      " {\n",
      "  \"move\": \"move right\",\n",
      "  \"communication\": \"I will move right to get closer to the obstacle on the path to the goal. Based on your plan, I see that we need to get the key to remove the door. Once I get to the key tile, I will unlock the door, allowing other players to advance to the goal. Let's coordinate to make this happen!\"\n",
      "} \n",
      "\n",
      "After player A take the move, here is how the game looks like: \n"
     ]
    },
    {
     "data": {
      "image/png": "[encoded data removed]",
      "text/plain": [
       "<Figure size 800x800 with 1 Axes>"
      ]
     },
     "metadata": {},
     "output_type": "display_data"
    },
    {
     "name": "stdout",
     "output_type": "stream",
     "text": [
      "The moves collected till this round: [{'A': 'jump on right'}, {'A': 'move right'}, {'A': 'move right'}, {'A': 'jump on right'}, {'A': 'move right'}, {'A': 'move right'}, {'A': 'jump on right'}, {'A': 'move right'}, {'A': 'move right'}, {'A': 'jump on right'}, {'A': 'jump on right'}, {'A': 'move right'}, {'A': 'move right'}, {'A': 'jump on right'}, {'A': 'jump on left'}, {'A': 'move right'}, {'A': 'move right'}, {'A': 'jump on right'}, {'A': 'move right'}]\n"
     ]
    }
   ],
   "source": [
    "MAX_ROUND = 20\n",
    "PLAYER_LIST = ['A', 'B', 'C', 'D']  # Max number of players. \n",
    "current_round = 1\n",
    "\n",
    "player_list = [x for x in PLAYER_LIST if x in current_level] # Players in the initial game setup. \n",
    "if not player_list:\n",
    "    print('At least one player(ABCD) should set up in the initial game.')\n",
    "\n",
    "openai_api_key=os.environ['OPENAI_API_KEY']\n",
    "prompt = ['demo_system_1.txt', 'demo_user_1.txt']\n",
    "\n",
    "print('==================================================================')\n",
    "print('Before we start, this is how the game looks like. ')\n",
    "display_level_with_labels(current_level)\n",
    "moves = []\n",
    "game_status = 1 # 1: in progress, 0: finished successfully\n",
    "\n",
    "# If game still in progress, run one round\n",
    "while (game_status) and (current_round < MAX_ROUND):\n",
    "    # Initialization\n",
    "    agent_thoughts = '' \n",
    "    actions = {} # collect all action(s) in this round\n",
    "    player_list = [x for x in player_list if x in current_level]\n",
    "    print('==================================================================')\n",
    "    print('Round: {}, Current player list: {}'.format(current_round, player_list))\n",
    "\n",
    "    for player in player_list:\n",
    "        outcome = agent_loop(prompt, openai_api_key, current_level, agent_thoughts, player)\n",
    "        print('For player {}, LLM outcome:'.format(player))\n",
    "        print('\\n {} \\n'.format(outcome))\n",
    "        outcome_dict = eval(outcome)\n",
    "        actions[player] = outcome_dict['move'] # Store all the moves from this round. \n",
    "        agent_thoughts += 'Player ' + player + ' said in this turn: ' + outcome_dict['communication']\n",
    "        # update level\n",
    "        move = {} # Store the move for current player in current turn. => Need adjust LLM output to simplify this\n",
    "        move[player] = outcome_dict['move']\n",
    "        current_level = apply_game_updates(current_level, move)\n",
    "        print('After player {} take the move, here is how the game looks like: '.format(player))\n",
    "        display_level_with_labels(current_level)  \n",
    "    moves.append(actions)\n",
    "    print('The moves collected till this round: {}'.format(moves))\n",
    "    current_round += 1"
   ]
  },
  {
   "cell_type": "code",
   "execution_count": null,
   "metadata": {},
   "outputs": [],
   "source": []
  },
  {
   "cell_type": "code",
   "execution_count": null,
   "metadata": {},
   "outputs": [],
   "source": []
  }
 ],
 "metadata": {
  "colab": {
   "provenance": []
  },
  "kernelspec": {
   "display_name": "Python 3 (ipykernel)",
   "language": "python",
   "name": "python3"
  },
  "language_info": {
   "codemirror_mode": {
    "name": "ipython",
    "version": 3
   },
   "file_extension": ".py",
   "mimetype": "text/x-python",
   "name": "python",
   "nbconvert_exporter": "python",
   "pygments_lexer": "ipython3",
   "version": "3.10.13"
  },
  "toc": {
   "base_numbering": 1,
   "nav_menu": {},
   "number_sections": true,
   "sideBar": true,
   "skip_h1_title": false,
   "title_cell": "Table of Contents",
   "title_sidebar": "Contents",
   "toc_cell": false,
   "toc_position": {},
   "toc_section_display": true,
   "toc_window_display": true
  }
 },
 "nbformat": 4,
 "nbformat_minor": 4
}
